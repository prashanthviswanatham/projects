{
 "cells": [
  {
   "cell_type": "code",
   "execution_count": 1,
   "id": "91322213",
   "metadata": {
    "_cell_guid": "b1076dfc-b9ad-4769-8c92-a6c4dae69d19",
    "_uuid": "8f2839f25d086af736a60e9eeb907d3b93b6e0e5",
    "execution": {
     "iopub.execute_input": "2021-09-14T15:35:19.347237Z",
     "iopub.status.busy": "2021-09-14T15:35:19.346711Z",
     "iopub.status.idle": "2021-09-14T15:35:19.365955Z",
     "shell.execute_reply": "2021-09-14T15:35:19.364920Z"
    },
    "papermill": {
     "duration": 0.057229,
     "end_time": "2021-09-14T15:35:19.366082",
     "exception": false,
     "start_time": "2021-09-14T15:35:19.308853",
     "status": "completed"
    },
    "tags": []
   },
   "outputs": [
    {
     "name": "stdout",
     "output_type": "stream",
     "text": [
      "/kaggle/input/thick9/tick.jpeg\n",
      "/kaggle/input/nine-digit/9.jpeg\n",
      "/kaggle/input/ninejp/ninejpeg.jpeg\n",
      "/kaggle/input/digit-recognizer/sample_submission.csv\n",
      "/kaggle/input/digit-recognizer/train.csv\n",
      "/kaggle/input/digit-recognizer/test.csv\n"
     ]
    }
   ],
   "source": [
    "# This Python 3 environment comes with many helpful analytics libraries installed\n",
    "# It is defined by the kaggle/python Docker image: https://github.com/kaggle/docker-python\n",
    "# For example, here's several helpful packages to load\n",
    "\n",
    "import numpy as np # linear algebra\n",
    "import pandas as pd # data processing, CSV file I/O (e.g. pd.read_csv)\n",
    "\n",
    "# Input data files are available in the read-only \"../input/\" directory\n",
    "# For example, running this (by clicking run or pressing Shift+Enter) will list all files under the input directory\n",
    "\n",
    "import os\n",
    "for dirname, _, filenames in os.walk('/kaggle/input'):\n",
    "    for filename in filenames:\n",
    "        print(os.path.join(dirname, filename))\n",
    "\n",
    "# You can write up to 20GB to the current directory (/kaggle/working/) that gets preserved as output when you create a version using \"Save & Run All\" \n",
    "# You can also write temporary files to /kaggle/temp/, but they won't be saved outside of the current session"
   ]
  },
  {
   "cell_type": "code",
   "execution_count": 2,
   "id": "3a20fc19",
   "metadata": {
    "execution": {
     "iopub.execute_input": "2021-09-14T15:35:19.422301Z",
     "iopub.status.busy": "2021-09-14T15:35:19.421624Z",
     "iopub.status.idle": "2021-09-14T15:35:22.802047Z",
     "shell.execute_reply": "2021-09-14T15:35:22.800926Z"
    },
    "papermill": {
     "duration": 3.409573,
     "end_time": "2021-09-14T15:35:22.802202",
     "exception": false,
     "start_time": "2021-09-14T15:35:19.392629",
     "status": "completed"
    },
    "tags": []
   },
   "outputs": [],
   "source": [
    "df=pd.read_csv('../input/digit-recognizer/train.csv')"
   ]
  },
  {
   "cell_type": "code",
   "execution_count": 3,
   "id": "5170d7df",
   "metadata": {
    "execution": {
     "iopub.execute_input": "2021-09-14T15:35:22.860025Z",
     "iopub.status.busy": "2021-09-14T15:35:22.859490Z",
     "iopub.status.idle": "2021-09-14T15:35:24.677270Z",
     "shell.execute_reply": "2021-09-14T15:35:24.676746Z"
    },
    "papermill": {
     "duration": 1.848017,
     "end_time": "2021-09-14T15:35:24.677414",
     "exception": false,
     "start_time": "2021-09-14T15:35:22.829397",
     "status": "completed"
    },
    "tags": []
   },
   "outputs": [],
   "source": [
    "test=pd.read_csv('../input/digit-recognizer/test.csv')"
   ]
  },
  {
   "cell_type": "code",
   "execution_count": 4,
   "id": "765a62ed",
   "metadata": {
    "execution": {
     "iopub.execute_input": "2021-09-14T15:35:24.734726Z",
     "iopub.status.busy": "2021-09-14T15:35:24.733518Z",
     "iopub.status.idle": "2021-09-14T15:35:24.735715Z",
     "shell.execute_reply": "2021-09-14T15:35:24.736150Z"
    },
    "papermill": {
     "duration": 0.032219,
     "end_time": "2021-09-14T15:35:24.736305",
     "exception": false,
     "start_time": "2021-09-14T15:35:24.704086",
     "status": "completed"
    },
    "tags": []
   },
   "outputs": [],
   "source": [
    "import matplotlib.pyplot as plt"
   ]
  },
  {
   "cell_type": "code",
   "execution_count": 5,
   "id": "0110b375",
   "metadata": {
    "execution": {
     "iopub.execute_input": "2021-09-14T15:35:24.802908Z",
     "iopub.status.busy": "2021-09-14T15:35:24.802378Z",
     "iopub.status.idle": "2021-09-14T15:35:25.034831Z",
     "shell.execute_reply": "2021-09-14T15:35:25.034421Z"
    },
    "papermill": {
     "duration": 0.271261,
     "end_time": "2021-09-14T15:35:25.034952",
     "exception": false,
     "start_time": "2021-09-14T15:35:24.763691",
     "status": "completed"
    },
    "tags": []
   },
   "outputs": [
    {
     "data": {
      "text/plain": [
       "<matplotlib.image.AxesImage at 0x7ff3f65c8bd0>"
      ]
     },
     "execution_count": 5,
     "metadata": {},
     "output_type": "execute_result"
    },
    {
     "data": {
      "image/png": "[encoded data removed]",
      "text/plain": [
       "<Figure size 432x288 with 1 Axes>"
      ]
     },
     "metadata": {
      "needs_background": "light"
     },
     "output_type": "display_data"
    }
   ],
   "source": [
    "plt.imshow(df.drop('label',axis=1).values.reshape(42000,28,28)[0],cmap='gray')\n"
   ]
  },
  {
   "cell_type": "code",
   "execution_count": 6,
   "id": "ed328940",
   "metadata": {
    "execution": {
     "iopub.execute_input": "2021-09-14T15:35:25.094508Z",
     "iopub.status.busy": "2021-09-14T15:35:25.093930Z",
     "iopub.status.idle": "2021-09-14T15:35:25.099521Z",
     "shell.execute_reply": "2021-09-14T15:35:25.099084Z"
    },
    "papermill": {
     "duration": 0.037184,
     "end_time": "2021-09-14T15:35:25.099631",
     "exception": false,
     "start_time": "2021-09-14T15:35:25.062447",
     "status": "completed"
    },
    "tags": []
   },
   "outputs": [
    {
     "data": {
      "text/plain": [
       "(42000, 785)"
      ]
     },
     "execution_count": 6,
     "metadata": {},
     "output_type": "execute_result"
    }
   ],
   "source": [
    "df.shape"
   ]
  },
  {
   "cell_type": "code",
   "execution_count": 7,
   "id": "e6bf8802",
   "metadata": {
    "execution": {
     "iopub.execute_input": "2021-09-14T15:35:25.158397Z",
     "iopub.status.busy": "2021-09-14T15:35:25.157878Z",
     "iopub.status.idle": "2021-09-14T15:35:25.161520Z",
     "shell.execute_reply": "2021-09-14T15:35:25.161926Z"
    },
    "papermill": {
     "duration": 0.034023,
     "end_time": "2021-09-14T15:35:25.162039",
     "exception": false,
     "start_time": "2021-09-14T15:35:25.128016",
     "status": "completed"
    },
    "tags": []
   },
   "outputs": [],
   "source": [
    "#y=pd.get_dummies(df['label']).values"
   ]
  },
  {
   "cell_type": "code",
   "execution_count": 8,
   "id": "84d613cb",
   "metadata": {
    "execution": {
     "iopub.execute_input": "2021-09-14T15:35:25.222425Z",
     "iopub.status.busy": "2021-09-14T15:35:25.221792Z",
     "iopub.status.idle": "2021-09-14T15:35:29.589265Z",
     "shell.execute_reply": "2021-09-14T15:35:29.588318Z"
    },
    "papermill": {
     "duration": 4.398682,
     "end_time": "2021-09-14T15:35:29.589407",
     "exception": false,
     "start_time": "2021-09-14T15:35:25.190725",
     "status": "completed"
    },
    "tags": []
   },
   "outputs": [],
   "source": [
    "from tensorflow.keras.utils import to_categorical"
   ]
  },
  {
   "cell_type": "code",
   "execution_count": 9,
   "id": "cb8c0933",
   "metadata": {
    "execution": {
     "iopub.execute_input": "2021-09-14T15:35:29.650287Z",
     "iopub.status.busy": "2021-09-14T15:35:29.649441Z",
     "iopub.status.idle": "2021-09-14T15:35:29.653130Z",
     "shell.execute_reply": "2021-09-14T15:35:29.652727Z"
    },
    "papermill": {
     "duration": 0.035811,
     "end_time": "2021-09-14T15:35:29.653272",
     "exception": false,
     "start_time": "2021-09-14T15:35:29.617461",
     "status": "completed"
    },
    "tags": []
   },
   "outputs": [],
   "source": [
    "y=to_categorical(df['label'])\n"
   ]
  },
  {
   "cell_type": "code",
   "execution_count": 10,
   "id": "c35c9d71",
   "metadata": {
    "execution": {
     "iopub.execute_input": "2021-09-14T15:35:29.713441Z",
     "iopub.status.busy": "2021-09-14T15:35:29.712542Z",
     "iopub.status.idle": "2021-09-14T15:35:29.716423Z",
     "shell.execute_reply": "2021-09-14T15:35:29.716022Z"
    },
    "papermill": {
     "duration": 0.035277,
     "end_time": "2021-09-14T15:35:29.716526",
     "exception": false,
     "start_time": "2021-09-14T15:35:29.681249",
     "status": "completed"
    },
    "tags": []
   },
   "outputs": [
    {
     "data": {
      "text/plain": [
       "(42000, 10)"
      ]
     },
     "execution_count": 10,
     "metadata": {},
     "output_type": "execute_result"
    }
   ],
   "source": [
    "#df.values\n",
    "y.shape"
   ]
  },
  {
   "cell_type": "code",
   "execution_count": 11,
   "id": "4d30bbd8",
   "metadata": {
    "execution": {
     "iopub.execute_input": "2021-09-14T15:35:29.866201Z",
     "iopub.status.busy": "2021-09-14T15:35:29.865513Z",
     "iopub.status.idle": "2021-09-14T15:35:29.868947Z",
     "shell.execute_reply": "2021-09-14T15:35:29.868534Z"
    },
    "papermill": {
     "duration": 0.114882,
     "end_time": "2021-09-14T15:35:29.869077",
     "exception": false,
     "start_time": "2021-09-14T15:35:29.754195",
     "status": "completed"
    },
    "tags": []
   },
   "outputs": [],
   "source": [
    "X=df.drop('label',axis=1).values.reshape(-1,28,28,1)"
   ]
  },
  {
   "cell_type": "code",
   "execution_count": 12,
   "id": "34c036e7",
   "metadata": {
    "execution": {
     "iopub.execute_input": "2021-09-14T15:35:29.932126Z",
     "iopub.status.busy": "2021-09-14T15:35:29.931207Z",
     "iopub.status.idle": "2021-09-14T15:35:30.035338Z",
     "shell.execute_reply": "2021-09-14T15:35:30.034814Z"
    },
    "papermill": {
     "duration": 0.136911,
     "end_time": "2021-09-14T15:35:30.035466",
     "exception": false,
     "start_time": "2021-09-14T15:35:29.898555",
     "status": "completed"
    },
    "tags": []
   },
   "outputs": [],
   "source": [
    "X=X/255\n"
   ]
  },
  {
   "cell_type": "code",
   "execution_count": 13,
   "id": "852298cf",
   "metadata": {
    "execution": {
     "iopub.execute_input": "2021-09-14T15:35:30.096909Z",
     "iopub.status.busy": "2021-09-14T15:35:30.096162Z",
     "iopub.status.idle": "2021-09-14T15:35:30.616283Z",
     "shell.execute_reply": "2021-09-14T15:35:30.615756Z"
    },
    "papermill": {
     "duration": 0.552484,
     "end_time": "2021-09-14T15:35:30.616435",
     "exception": false,
     "start_time": "2021-09-14T15:35:30.063951",
     "status": "completed"
    },
    "tags": []
   },
   "outputs": [],
   "source": [
    "from sklearn.model_selection import train_test_split"
   ]
  },
  {
   "cell_type": "code",
   "execution_count": 14,
   "id": "5a972df6",
   "metadata": {
    "execution": {
     "iopub.execute_input": "2021-09-14T15:35:30.680441Z",
     "iopub.status.busy": "2021-09-14T15:35:30.678667Z",
     "iopub.status.idle": "2021-09-14T15:35:31.049458Z",
     "shell.execute_reply": "2021-09-14T15:35:31.048968Z"
    },
    "papermill": {
     "duration": 0.404194,
     "end_time": "2021-09-14T15:35:31.049598",
     "exception": false,
     "start_time": "2021-09-14T15:35:30.645404",
     "status": "completed"
    },
    "tags": []
   },
   "outputs": [],
   "source": [
    "X_train,X_val,y_train,y_val=train_test_split(X,y,random_state=101,test_size=0.1)"
   ]
  },
  {
   "cell_type": "code",
   "execution_count": 15,
   "id": "ac5e1393",
   "metadata": {
    "execution": {
     "iopub.execute_input": "2021-09-14T15:35:31.111932Z",
     "iopub.status.busy": "2021-09-14T15:35:31.111149Z",
     "iopub.status.idle": "2021-09-14T15:35:31.113907Z",
     "shell.execute_reply": "2021-09-14T15:35:31.113505Z"
    },
    "papermill": {
     "duration": 0.035208,
     "end_time": "2021-09-14T15:35:31.114011",
     "exception": false,
     "start_time": "2021-09-14T15:35:31.078803",
     "status": "completed"
    },
    "tags": []
   },
   "outputs": [],
   "source": [
    "from tensorflow.keras.callbacks import EarlyStopping"
   ]
  },
  {
   "cell_type": "code",
   "execution_count": 16,
   "id": "fd8e4f03",
   "metadata": {
    "execution": {
     "iopub.execute_input": "2021-09-14T15:35:31.176159Z",
     "iopub.status.busy": "2021-09-14T15:35:31.175496Z",
     "iopub.status.idle": "2021-09-14T15:35:31.178225Z",
     "shell.execute_reply": "2021-09-14T15:35:31.177798Z"
    },
    "papermill": {
     "duration": 0.035072,
     "end_time": "2021-09-14T15:35:31.178335",
     "exception": false,
     "start_time": "2021-09-14T15:35:31.143263",
     "status": "completed"
    },
    "tags": []
   },
   "outputs": [],
   "source": [
    "es=EarlyStopping(patience=25)"
   ]
  },
  {
   "cell_type": "code",
   "execution_count": 17,
   "id": "2808a8ee",
   "metadata": {
    "execution": {
     "iopub.execute_input": "2021-09-14T15:35:31.241703Z",
     "iopub.status.busy": "2021-09-14T15:35:31.240970Z",
     "iopub.status.idle": "2021-09-14T15:35:31.243210Z",
     "shell.execute_reply": "2021-09-14T15:35:31.243613Z"
    },
    "papermill": {
     "duration": 0.035123,
     "end_time": "2021-09-14T15:35:31.243727",
     "exception": false,
     "start_time": "2021-09-14T15:35:31.208604",
     "status": "completed"
    },
    "tags": []
   },
   "outputs": [],
   "source": [
    "from tensorflow.keras.models import Sequential\n",
    "from tensorflow.keras.layers import Dense,Dropout,Conv2D,BatchNormalization,Flatten,MaxPool2D"
   ]
  },
  {
   "cell_type": "code",
   "execution_count": 18,
   "id": "3deab20b",
   "metadata": {
    "execution": {
     "iopub.execute_input": "2021-09-14T15:35:31.309735Z",
     "iopub.status.busy": "2021-09-14T15:35:31.309235Z",
     "iopub.status.idle": "2021-09-14T15:35:33.620048Z",
     "shell.execute_reply": "2021-09-14T15:35:33.619515Z"
    },
    "papermill": {
     "duration": 2.347612,
     "end_time": "2021-09-14T15:35:33.620209",
     "exception": false,
     "start_time": "2021-09-14T15:35:31.272597",
     "status": "completed"
    },
    "tags": []
   },
   "outputs": [
    {
     "data": {
      "text/plain": [
       "<bound method Model.summary of <tensorflow.python.keras.engine.sequential.Sequential object at 0x7ff39760f290>>"
      ]
     },
     "execution_count": 18,
     "metadata": {},
     "output_type": "execute_result"
    }
   ],
   "source": [
    "model=Sequential()\n",
    "model.add(Conv2D(input_shape=(28,28,1),filters=64,kernel_size=(5,5),padding='Same',activation='relu'))\n",
    "model.add(Conv2D(filters=64,kernel_size=(5,5),padding='Same',activation='relu'))\n",
    "model.add(MaxPool2D((2,2)))\n",
    "model.add(Conv2D(filters=64,kernel_size=(3,3),activation='relu'))\n",
    "model.add(MaxPool2D((2,2)))\n",
    "model.add(BatchNormalization())          \n",
    "model.add(Conv2D(filters=64,kernel_size=(3,3),activation='relu'))\n",
    "model.add(Conv2D(filters=64,kernel_size=(3,3),activation='relu'))\n",
    "model.add(Flatten())\n",
    "model.add(BatchNormalization())          \n",
    "model.add(Dense(785,activation='relu'))\n",
    "model.add(Dropout(0.2))\n",
    "model.add(Dense(100,activation='relu'))\n",
    "model.add(Dropout(0.2))\n",
    "model.add(BatchNormalization())          \n",
    "model.add(Dense(10,activation='softmax'))\n",
    "model.compile(loss='categorical_crossentropy',optimizer='adam',metrics=['accuracy'])\n",
    "model.summary"
   ]
  },
  {
   "cell_type": "code",
   "execution_count": 19,
   "id": "a60efeea",
   "metadata": {
    "execution": {
     "iopub.execute_input": "2021-09-14T15:35:33.685942Z",
     "iopub.status.busy": "2021-09-14T15:35:33.685454Z",
     "iopub.status.idle": "2021-09-14T15:35:33.780951Z",
     "shell.execute_reply": "2021-09-14T15:35:33.779764Z"
    },
    "papermill": {
     "duration": 0.129856,
     "end_time": "2021-09-14T15:35:33.781115",
     "exception": false,
     "start_time": "2021-09-14T15:35:33.651259",
     "status": "completed"
    },
    "tags": []
   },
   "outputs": [],
   "source": [
    "test/=255"
   ]
  },
  {
   "cell_type": "code",
   "execution_count": 20,
   "id": "15713313",
   "metadata": {
    "execution": {
     "iopub.execute_input": "2021-09-14T15:35:33.853725Z",
     "iopub.status.busy": "2021-09-14T15:35:33.852914Z",
     "iopub.status.idle": "2021-09-14T15:35:33.856543Z",
     "shell.execute_reply": "2021-09-14T15:35:33.856965Z"
    },
    "papermill": {
     "duration": 0.044561,
     "end_time": "2021-09-14T15:35:33.857104",
     "exception": false,
     "start_time": "2021-09-14T15:35:33.812543",
     "status": "completed"
    },
    "tags": []
   },
   "outputs": [
    {
     "data": {
      "text/plain": [
       "pixel0      0.0\n",
       "pixel1      0.0\n",
       "pixel2      0.0\n",
       "pixel3      0.0\n",
       "pixel4      0.0\n",
       "           ... \n",
       "pixel779    0.0\n",
       "pixel780    0.0\n",
       "pixel781    0.0\n",
       "pixel782    0.0\n",
       "pixel783    0.0\n",
       "Name: 0, Length: 784, dtype: float64"
      ]
     },
     "execution_count": 20,
     "metadata": {},
     "output_type": "execute_result"
    }
   ],
   "source": [
    "test.iloc[0]"
   ]
  },
  {
   "cell_type": "code",
   "execution_count": 21,
   "id": "3426e906",
   "metadata": {
    "execution": {
     "iopub.execute_input": "2021-09-14T15:35:33.924227Z",
     "iopub.status.busy": "2021-09-14T15:35:33.923465Z",
     "iopub.status.idle": "2021-09-14T15:35:33.927651Z",
     "shell.execute_reply": "2021-09-14T15:35:33.927219Z"
    },
    "papermill": {
     "duration": 0.03853,
     "end_time": "2021-09-14T15:35:33.927755",
     "exception": false,
     "start_time": "2021-09-14T15:35:33.889225",
     "status": "completed"
    },
    "tags": []
   },
   "outputs": [],
   "source": [
    "import matplotlib.pyplot as plt"
   ]
  },
  {
   "cell_type": "code",
   "execution_count": 22,
   "id": "7285f729",
   "metadata": {
    "execution": {
     "iopub.execute_input": "2021-09-14T15:35:34.021466Z",
     "iopub.status.busy": "2021-09-14T15:35:34.019883Z",
     "iopub.status.idle": "2021-09-14T15:35:34.132615Z",
     "shell.execute_reply": "2021-09-14T15:35:34.132076Z"
    },
    "papermill": {
     "duration": 0.17379,
     "end_time": "2021-09-14T15:35:34.132734",
     "exception": false,
     "start_time": "2021-09-14T15:35:33.958944",
     "status": "completed"
    },
    "tags": []
   },
   "outputs": [
    {
     "data": {
      "text/plain": [
       "<matplotlib.image.AxesImage at 0x7ff3942f92d0>"
      ]
     },
     "execution_count": 22,
     "metadata": {},
     "output_type": "execute_result"
    },
    {
     "data": {
      "image/png": "[encoded data removed]",
      "text/plain": [
       "<Figure size 432x288 with 1 Axes>"
      ]
     },
     "metadata": {
      "needs_background": "light"
     },
     "output_type": "display_data"
    }
   ],
   "source": [
    "plt.imshow(test.iloc[[45]].values.reshape(28,28))"
   ]
  },
  {
   "cell_type": "code",
   "execution_count": 23,
   "id": "ffeb5c17",
   "metadata": {
    "execution": {
     "iopub.execute_input": "2021-09-14T15:35:34.202782Z",
     "iopub.status.busy": "2021-09-14T15:35:34.201514Z",
     "iopub.status.idle": "2021-09-14T15:35:34.204215Z",
     "shell.execute_reply": "2021-09-14T15:35:34.203793Z"
    },
    "papermill": {
     "duration": 0.039482,
     "end_time": "2021-09-14T15:35:34.204365",
     "exception": false,
     "start_time": "2021-09-14T15:35:34.164883",
     "status": "completed"
    },
    "tags": []
   },
   "outputs": [],
   "source": [
    "from tensorflow.keras.preprocessing.image import ImageDataGenerator"
   ]
  },
  {
   "cell_type": "code",
   "execution_count": 24,
   "id": "8a39a95a",
   "metadata": {
    "execution": {
     "iopub.execute_input": "2021-09-14T15:35:34.274290Z",
     "iopub.status.busy": "2021-09-14T15:35:34.273750Z",
     "iopub.status.idle": "2021-09-14T15:35:34.277627Z",
     "shell.execute_reply": "2021-09-14T15:35:34.277201Z"
    },
    "papermill": {
     "duration": 0.041239,
     "end_time": "2021-09-14T15:35:34.277725",
     "exception": false,
     "start_time": "2021-09-14T15:35:34.236486",
     "status": "completed"
    },
    "tags": []
   },
   "outputs": [],
   "source": [
    "img=ImageDataGenerator(\n",
    "    featurewise_center=False,\n",
    "    samplewise_center=False,\n",
    "    featurewise_std_normalization=False,\n",
    "    samplewise_std_normalization=False,\n",
    "    zca_whitening=False,\n",
    "    zca_epsilon=1e-06,\n",
    "    rotation_range=10,\n",
    "    width_shift_range=0.1,\n",
    "    height_shift_range=0.1,\n",
    "    brightness_range=None,\n",
    "    shear_range=0.1,\n",
    "    zoom_range=0.1,\n",
    "    channel_shift_range=0.0,\n",
    "    fill_mode='nearest',\n",
    "    cval=0.0,\n",
    "    horizontal_flip=False,\n",
    "    vertical_flip=False,\n",
    "    rescale=None,\n",
    "    preprocessing_function=None,\n",
    "    data_format=None,\n",
    "    validation_split=0.0,\n",
    "    dtype=None,)"
   ]
  },
  {
   "cell_type": "code",
   "execution_count": 25,
   "id": "d0abefb5",
   "metadata": {
    "execution": {
     "iopub.execute_input": "2021-09-14T15:35:34.348100Z",
     "iopub.status.busy": "2021-09-14T15:35:34.347137Z",
     "iopub.status.idle": "2021-09-14T15:46:14.756233Z",
     "shell.execute_reply": "2021-09-14T15:46:14.756633Z"
    },
    "papermill": {
     "duration": 640.446307,
     "end_time": "2021-09-14T15:46:14.756791",
     "exception": false,
     "start_time": "2021-09-14T15:35:34.310484",
     "status": "completed"
    },
    "tags": []
   },
   "outputs": [
    {
     "name": "stdout",
     "output_type": "stream",
     "text": [
      "Epoch 1/50\n",
      "378/378 [==============================] - 20s 35ms/step - loss: 0.6477 - accuracy: 0.7977 - val_loss: 0.2035 - val_accuracy: 0.9362\n",
      "Epoch 2/50\n",
      "378/378 [==============================] - 13s 33ms/step - loss: 0.0917 - accuracy: 0.9732 - val_loss: 0.0803 - val_accuracy: 0.9755\n",
      "Epoch 3/50\n",
      "378/378 [==============================] - 12s 33ms/step - loss: 0.0751 - accuracy: 0.9778 - val_loss: 0.0414 - val_accuracy: 0.9869\n",
      "Epoch 4/50\n",
      "378/378 [==============================] - 13s 33ms/step - loss: 0.0573 - accuracy: 0.9826 - val_loss: 0.1013 - val_accuracy: 0.9660\n",
      "Epoch 5/50\n",
      "378/378 [==============================] - 12s 33ms/step - loss: 0.0553 - accuracy: 0.9831 - val_loss: 0.0420 - val_accuracy: 0.9879\n",
      "Epoch 6/50\n",
      "378/378 [==============================] - 12s 33ms/step - loss: 0.0502 - accuracy: 0.9856 - val_loss: 0.0338 - val_accuracy: 0.9898\n",
      "Epoch 7/50\n",
      "378/378 [==============================] - 12s 33ms/step - loss: 0.0453 - accuracy: 0.9874 - val_loss: 0.0348 - val_accuracy: 0.9900\n",
      "Epoch 8/50\n",
      "378/378 [==============================] - 12s 32ms/step - loss: 0.0425 - accuracy: 0.9878 - val_loss: 0.0275 - val_accuracy: 0.9914\n",
      "Epoch 9/50\n",
      "378/378 [==============================] - 13s 34ms/step - loss: 0.0386 - accuracy: 0.9885 - val_loss: 0.0298 - val_accuracy: 0.9926\n",
      "Epoch 10/50\n",
      "378/378 [==============================] - 13s 33ms/step - loss: 0.0356 - accuracy: 0.9896 - val_loss: 0.0338 - val_accuracy: 0.9914\n",
      "Epoch 11/50\n",
      "378/378 [==============================] - 13s 33ms/step - loss: 0.0345 - accuracy: 0.9894 - val_loss: 0.0291 - val_accuracy: 0.9902\n",
      "Epoch 12/50\n",
      "378/378 [==============================] - 13s 33ms/step - loss: 0.0328 - accuracy: 0.9904 - val_loss: 0.0377 - val_accuracy: 0.9883\n",
      "Epoch 13/50\n",
      "378/378 [==============================] - 12s 32ms/step - loss: 0.0316 - accuracy: 0.9909 - val_loss: 0.0495 - val_accuracy: 0.9869\n",
      "Epoch 14/50\n",
      "378/378 [==============================] - 12s 33ms/step - loss: 0.0286 - accuracy: 0.9909 - val_loss: 0.0352 - val_accuracy: 0.9907\n",
      "Epoch 15/50\n",
      "378/378 [==============================] - 13s 34ms/step - loss: 0.0268 - accuracy: 0.9925 - val_loss: 0.0269 - val_accuracy: 0.9924\n",
      "Epoch 16/50\n",
      "378/378 [==============================] - 12s 32ms/step - loss: 0.0308 - accuracy: 0.9917 - val_loss: 0.0309 - val_accuracy: 0.9919\n",
      "Epoch 17/50\n",
      "378/378 [==============================] - 13s 36ms/step - loss: 0.0262 - accuracy: 0.9917 - val_loss: 0.0297 - val_accuracy: 0.9902\n",
      "Epoch 18/50\n",
      "378/378 [==============================] - 12s 32ms/step - loss: 0.0273 - accuracy: 0.9922 - val_loss: 0.0198 - val_accuracy: 0.9945\n",
      "Epoch 19/50\n",
      "378/378 [==============================] - 12s 33ms/step - loss: 0.0258 - accuracy: 0.9920 - val_loss: 0.0409 - val_accuracy: 0.9871\n",
      "Epoch 20/50\n",
      "378/378 [==============================] - 13s 34ms/step - loss: 0.0247 - accuracy: 0.9922 - val_loss: 0.0247 - val_accuracy: 0.9936\n",
      "Epoch 21/50\n",
      "378/378 [==============================] - 12s 32ms/step - loss: 0.0243 - accuracy: 0.9930 - val_loss: 0.0211 - val_accuracy: 0.9938\n",
      "Epoch 22/50\n",
      "378/378 [==============================] - 13s 35ms/step - loss: 0.0206 - accuracy: 0.9937 - val_loss: 0.0312 - val_accuracy: 0.9898\n",
      "Epoch 23/50\n",
      "378/378 [==============================] - 12s 32ms/step - loss: 0.0253 - accuracy: 0.9923 - val_loss: 0.0312 - val_accuracy: 0.9905\n",
      "Epoch 24/50\n",
      "378/378 [==============================] - 13s 33ms/step - loss: 0.0191 - accuracy: 0.9943 - val_loss: 0.0238 - val_accuracy: 0.9940\n",
      "Epoch 25/50\n",
      "378/378 [==============================] - 13s 34ms/step - loss: 0.0198 - accuracy: 0.9939 - val_loss: 0.0302 - val_accuracy: 0.9921\n",
      "Epoch 26/50\n",
      "378/378 [==============================] - 12s 32ms/step - loss: 0.0157 - accuracy: 0.9946 - val_loss: 0.0281 - val_accuracy: 0.9917\n",
      "Epoch 27/50\n",
      "378/378 [==============================] - 14s 36ms/step - loss: 0.0183 - accuracy: 0.9946 - val_loss: 0.0340 - val_accuracy: 0.9921\n",
      "Epoch 28/50\n",
      "378/378 [==============================] - 12s 32ms/step - loss: 0.0175 - accuracy: 0.9945 - val_loss: 0.0302 - val_accuracy: 0.9905\n",
      "Epoch 29/50\n",
      "378/378 [==============================] - 12s 31ms/step - loss: 0.0177 - accuracy: 0.9946 - val_loss: 0.0249 - val_accuracy: 0.9940\n",
      "Epoch 30/50\n",
      "378/378 [==============================] - 14s 36ms/step - loss: 0.0160 - accuracy: 0.9945 - val_loss: 0.0208 - val_accuracy: 0.9933\n",
      "Epoch 31/50\n",
      "378/378 [==============================] - 12s 31ms/step - loss: 0.0148 - accuracy: 0.9955 - val_loss: 0.0246 - val_accuracy: 0.9933\n",
      "Epoch 32/50\n",
      "378/378 [==============================] - 13s 35ms/step - loss: 0.0115 - accuracy: 0.9964 - val_loss: 0.0189 - val_accuracy: 0.9938\n",
      "Epoch 33/50\n",
      "378/378 [==============================] - 13s 33ms/step - loss: 0.0162 - accuracy: 0.9948 - val_loss: 0.0253 - val_accuracy: 0.9933\n",
      "Epoch 34/50\n",
      "378/378 [==============================] - 12s 32ms/step - loss: 0.0160 - accuracy: 0.9955 - val_loss: 0.0220 - val_accuracy: 0.9938\n",
      "Epoch 35/50\n",
      "378/378 [==============================] - 14s 37ms/step - loss: 0.0167 - accuracy: 0.9947 - val_loss: 0.0257 - val_accuracy: 0.9943\n",
      "Epoch 36/50\n",
      "378/378 [==============================] - 12s 32ms/step - loss: 0.0151 - accuracy: 0.9952 - val_loss: 0.0197 - val_accuracy: 0.9936\n",
      "Epoch 37/50\n",
      "378/378 [==============================] - 13s 33ms/step - loss: 0.0145 - accuracy: 0.9953 - val_loss: 0.0265 - val_accuracy: 0.9936\n",
      "Epoch 38/50\n",
      "378/378 [==============================] - 14s 36ms/step - loss: 0.0139 - accuracy: 0.9955 - val_loss: 0.0201 - val_accuracy: 0.9948\n",
      "Epoch 39/50\n",
      "378/378 [==============================] - 12s 32ms/step - loss: 0.0134 - accuracy: 0.9958 - val_loss: 0.0217 - val_accuracy: 0.9952\n",
      "Epoch 40/50\n",
      "378/378 [==============================] - 14s 37ms/step - loss: 0.0142 - accuracy: 0.9957 - val_loss: 0.0373 - val_accuracy: 0.9919\n",
      "Epoch 41/50\n",
      "378/378 [==============================] - 12s 32ms/step - loss: 0.0093 - accuracy: 0.9972 - val_loss: 0.0207 - val_accuracy: 0.9938\n",
      "Epoch 42/50\n",
      "378/378 [==============================] - 13s 34ms/step - loss: 0.0124 - accuracy: 0.9963 - val_loss: 0.0311 - val_accuracy: 0.9917\n",
      "Epoch 43/50\n",
      "378/378 [==============================] - 13s 35ms/step - loss: 0.0128 - accuracy: 0.9966 - val_loss: 0.0173 - val_accuracy: 0.9957\n",
      "Epoch 44/50\n",
      "378/378 [==============================] - 12s 32ms/step - loss: 0.0152 - accuracy: 0.9958 - val_loss: 0.0210 - val_accuracy: 0.9943\n",
      "Epoch 45/50\n",
      "378/378 [==============================] - 13s 34ms/step - loss: 0.0142 - accuracy: 0.9958 - val_loss: 0.0192 - val_accuracy: 0.9948\n",
      "Epoch 46/50\n",
      "378/378 [==============================] - 13s 35ms/step - loss: 0.0096 - accuracy: 0.9973 - val_loss: 0.0352 - val_accuracy: 0.9895\n",
      "Epoch 47/50\n",
      "378/378 [==============================] - 12s 33ms/step - loss: 0.0139 - accuracy: 0.9957 - val_loss: 0.0261 - val_accuracy: 0.9940\n",
      "Epoch 48/50\n",
      "378/378 [==============================] - 14s 37ms/step - loss: 0.0112 - accuracy: 0.9968 - val_loss: 0.0285 - val_accuracy: 0.9926\n",
      "Epoch 49/50\n",
      "378/378 [==============================] - 12s 32ms/step - loss: 0.0112 - accuracy: 0.9966 - val_loss: 0.0218 - val_accuracy: 0.9940\n",
      "Epoch 50/50\n",
      "378/378 [==============================] - 12s 33ms/step - loss: 0.0123 - accuracy: 0.9967 - val_loss: 0.0199 - val_accuracy: 0.9948\n"
     ]
    }
   ],
   "source": [
    "history=model.fit(img.flow(X_train,y_train,batch_size=100),epochs=50,callbacks=[es],validation_data=(X_val,y_val),batch_size=100)"
   ]
  },
  {
   "cell_type": "code",
   "execution_count": 26,
   "id": "44df2987",
   "metadata": {
    "execution": {
     "iopub.execute_input": "2021-09-14T15:46:20.001276Z",
     "iopub.status.busy": "2021-09-14T15:46:19.999604Z",
     "iopub.status.idle": "2021-09-14T15:46:20.002038Z",
     "shell.execute_reply": "2021-09-14T15:46:20.002463Z"
    },
    "papermill": {
     "duration": 2.59276,
     "end_time": "2021-09-14T15:46:20.002601",
     "exception": false,
     "start_time": "2021-09-14T15:46:17.409841",
     "status": "completed"
    },
    "tags": []
   },
   "outputs": [],
   "source": [
    "hs=pd.DataFrame(history.history)"
   ]
  },
  {
   "cell_type": "code",
   "execution_count": 27,
   "id": "0dfc970b",
   "metadata": {
    "execution": {
     "iopub.execute_input": "2021-09-14T15:46:25.475421Z",
     "iopub.status.busy": "2021-09-14T15:46:25.474787Z",
     "iopub.status.idle": "2021-09-14T15:46:25.670017Z",
     "shell.execute_reply": "2021-09-14T15:46:25.669615Z"
    },
    "papermill": {
     "duration": 2.803018,
     "end_time": "2021-09-14T15:46:25.670133",
     "exception": false,
     "start_time": "2021-09-14T15:46:22.867115",
     "status": "completed"
    },
    "tags": []
   },
   "outputs": [
    {
     "data": {
      "text/plain": [
       "<AxesSubplot:>"
      ]
     },
     "execution_count": 27,
     "metadata": {},
     "output_type": "execute_result"
    },
    {
     "data": {
      "image/png": "[encoded data removed]",
      "text/plain": [
       "<Figure size 432x288 with 1 Axes>"
      ]
     },
     "metadata": {
      "needs_background": "light"
     },
     "output_type": "display_data"
    }
   ],
   "source": [
    "hs.plot()"
   ]
  },
  {
   "cell_type": "code",
   "execution_count": 28,
   "id": "895d7fc8",
   "metadata": {
    "execution": {
     "iopub.execute_input": "2021-09-14T15:46:30.959886Z",
     "iopub.status.busy": "2021-09-14T15:46:30.959332Z",
     "iopub.status.idle": "2021-09-14T15:46:31.459869Z",
     "shell.execute_reply": "2021-09-14T15:46:31.459250Z"
    },
    "papermill": {
     "duration": 3.134862,
     "end_time": "2021-09-14T15:46:31.460001",
     "exception": false,
     "start_time": "2021-09-14T15:46:28.325139",
     "status": "completed"
    },
    "tags": []
   },
   "outputs": [],
   "source": [
    "from skimage import io\n",
    "from skimage.transform import resize"
   ]
  },
  {
   "cell_type": "code",
   "execution_count": 29,
   "id": "ff733adf",
   "metadata": {
    "execution": {
     "iopub.execute_input": "2021-09-14T15:46:36.977501Z",
     "iopub.status.busy": "2021-09-14T15:46:36.976945Z",
     "iopub.status.idle": "2021-09-14T15:46:37.000201Z",
     "shell.execute_reply": "2021-09-14T15:46:36.999740Z"
    },
    "papermill": {
     "duration": 2.66768,
     "end_time": "2021-09-14T15:46:37.000338",
     "exception": false,
     "start_time": "2021-09-14T15:46:34.332658",
     "status": "completed"
    },
    "tags": []
   },
   "outputs": [],
   "source": [
    "data=io.imread('../input/thick9/tick.jpeg',as_gray=True)"
   ]
  },
  {
   "cell_type": "code",
   "execution_count": 30,
   "id": "3796a8c1",
   "metadata": {
    "execution": {
     "iopub.execute_input": "2021-09-14T15:46:42.284357Z",
     "iopub.status.busy": "2021-09-14T15:46:42.283633Z",
     "iopub.status.idle": "2021-09-14T15:46:42.355688Z",
     "shell.execute_reply": "2021-09-14T15:46:42.356060Z"
    },
    "papermill": {
     "duration": 2.734464,
     "end_time": "2021-09-14T15:46:42.356268",
     "exception": false,
     "start_time": "2021-09-14T15:46:39.621804",
     "status": "completed"
    },
    "tags": []
   },
   "outputs": [],
   "source": [
    "nine=resize(data,(28,28))"
   ]
  },
  {
   "cell_type": "code",
   "execution_count": 31,
   "id": "539731ec",
   "metadata": {
    "execution": {
     "iopub.execute_input": "2021-09-14T15:46:48.476745Z",
     "iopub.status.busy": "2021-09-14T15:46:48.475913Z",
     "iopub.status.idle": "2021-09-14T15:46:48.668759Z",
     "shell.execute_reply": "2021-09-14T15:46:48.668341Z"
    },
    "papermill": {
     "duration": 2.874083,
     "end_time": "2021-09-14T15:46:48.668877",
     "exception": false,
     "start_time": "2021-09-14T15:46:45.794794",
     "status": "completed"
    },
    "tags": []
   },
   "outputs": [
    {
     "name": "stderr",
     "output_type": "stream",
     "text": [
      "/opt/conda/lib/python3.7/site-packages/tensorflow/python/keras/engine/sequential.py:450: UserWarning: `model.predict_classes()` is deprecated and will be removed after 2021-01-01. Please use instead:* `np.argmax(model.predict(x), axis=-1)`,   if your model does multi-class classification   (e.g. if it uses a `softmax` last-layer activation).* `(model.predict(x) > 0.5).astype(\"int32\")`,   if your model does binary classification   (e.g. if it uses a `sigmoid` last-layer activation).\n",
      "  warnings.warn('`model.predict_classes()` is deprecated and '\n"
     ]
    },
    {
     "data": {
      "text/plain": [
       "array([9])"
      ]
     },
     "execution_count": 31,
     "metadata": {},
     "output_type": "execute_result"
    }
   ],
   "source": [
    "model.predict_classes((1-nine).reshape(1,28,28,1))"
   ]
  },
  {
   "cell_type": "code",
   "execution_count": 32,
   "id": "457ed064",
   "metadata": {
    "execution": {
     "iopub.execute_input": "2021-09-14T15:46:53.989052Z",
     "iopub.status.busy": "2021-09-14T15:46:53.977977Z",
     "iopub.status.idle": "2021-09-14T15:46:54.107910Z",
     "shell.execute_reply": "2021-09-14T15:46:54.107514Z"
    },
    "papermill": {
     "duration": 2.794004,
     "end_time": "2021-09-14T15:46:54.108025",
     "exception": false,
     "start_time": "2021-09-14T15:46:51.314021",
     "status": "completed"
    },
    "tags": []
   },
   "outputs": [
    {
     "data": {
      "text/plain": [
       "<matplotlib.image.AxesImage at 0x7ff2e4089a90>"
      ]
     },
     "execution_count": 32,
     "metadata": {},
     "output_type": "execute_result"
    },
    {
     "data": {
      "image/png": "[encoded data removed]",
      "text/plain": [
       "<Figure size 432x288 with 1 Axes>"
      ]
     },
     "metadata": {
      "needs_background": "light"
     },
     "output_type": "display_data"
    }
   ],
   "source": [
    "plt.imshow(1-nine,cmap='gray')"
   ]
  },
  {
   "cell_type": "code",
   "execution_count": 33,
   "id": "5fd4707c",
   "metadata": {
    "execution": {
     "iopub.execute_input": "2021-09-14T15:46:59.550063Z",
     "iopub.status.busy": "2021-09-14T15:46:59.549063Z",
     "iopub.status.idle": "2021-09-14T15:46:59.857756Z",
     "shell.execute_reply": "2021-09-14T15:46:59.856895Z"
    },
    "papermill": {
     "duration": 2.916733,
     "end_time": "2021-09-14T15:46:59.857901",
     "exception": false,
     "start_time": "2021-09-14T15:46:56.941168",
     "status": "completed"
    },
    "tags": []
   },
   "outputs": [],
   "source": [
    "pred_val=model.predict_classes(X_val.reshape(-1,28,28,1))"
   ]
  },
  {
   "cell_type": "code",
   "execution_count": 34,
   "id": "aad8c3a9",
   "metadata": {
    "execution": {
     "iopub.execute_input": "2021-09-14T15:47:05.172880Z",
     "iopub.status.busy": "2021-09-14T15:47:05.155082Z",
     "iopub.status.idle": "2021-09-14T15:47:05.825132Z",
     "shell.execute_reply": "2021-09-14T15:47:05.825758Z"
    },
    "papermill": {
     "duration": 3.299879,
     "end_time": "2021-09-14T15:47:05.825957",
     "exception": false,
     "start_time": "2021-09-14T15:47:02.526078",
     "status": "completed"
    },
    "tags": []
   },
   "outputs": [
    {
     "data": {
      "image/png": "[encoded data removed]",
      "text/plain": [
       "<Figure size 432x288 with 1 Axes>"
      ]
     },
     "metadata": {
      "needs_background": "light"
     },
     "output_type": "display_data"
    },
    {
     "data": {
      "image/png": "[encoded data removed]",
      "text/plain": [
       "<Figure size 432x288 with 1 Axes>"
      ]
     },
     "metadata": {
      "needs_background": "light"
     },
     "output_type": "display_data"
    },
    {
     "data": {
      "image/png": "[encoded data removed]",
      "text/plain": [
       "<Figure size 432x288 with 1 Axes>"
      ]
     },
     "metadata": {
      "needs_background": "light"
     },
     "output_type": "display_data"
    },
    {
     "data": {
      "image/png": "[encoded data removed]",
      "text/plain": [
       "<Figure size 432x288 with 1 Axes>"
      ]
     },
     "metadata": {
      "needs_background": "light"
     },
     "output_type": "display_data"
    },
    {
     "data": {
      "image/png": "[encoded data removed]",
      "text/plain": [
       "<Figure size 432x288 with 1 Axes>"
      ]
     },
     "metadata": {
      "needs_background": "light"
     },
     "output_type": "display_data"
    }
   ],
   "source": [
    "a=0\n",
    "for i in range(len(pred_val)):\n",
    "    if pred_val[i]==np.argmax(y_val[i]):\n",
    "        figi=plt.figure()\n",
    "        plt.imshow(X_val[i])\n",
    "        plt.title(f'pred:{pred_val[i]}, true: {np.argmax(y_val[i])}')\n",
    "        plt.xlabel(str(pred_val[i]))\n",
    "        plt.ylabel(str(np.argmax(y_val[i])))\n",
    "        if a==4:\n",
    "            break\n",
    "        a+=1"
   ]
  },
  {
   "cell_type": "code",
   "execution_count": 35,
   "id": "2cca5c29",
   "metadata": {
    "execution": {
     "iopub.execute_input": "2021-09-14T15:47:11.367536Z",
     "iopub.status.busy": "2021-09-14T15:47:11.352570Z",
     "iopub.status.idle": "2021-09-14T15:47:12.004207Z",
     "shell.execute_reply": "2021-09-14T15:47:12.003754Z"
    },
    "papermill": {
     "duration": 3.29589,
     "end_time": "2021-09-14T15:47:12.004323",
     "exception": false,
     "start_time": "2021-09-14T15:47:08.708433",
     "status": "completed"
    },
    "tags": []
   },
   "outputs": [
    {
     "data": {
      "image/png": "[encoded data removed]",
      "text/plain": [
       "<Figure size 432x288 with 1 Axes>"
      ]
     },
     "metadata": {
      "needs_background": "light"
     },
     "output_type": "display_data"
    },
    {
     "data": {
      "image/png": "[encoded data removed]",
      "text/plain": [
       "<Figure size 432x288 with 1 Axes>"
      ]
     },
     "metadata": {
      "needs_background": "light"
     },
     "output_type": "display_data"
    },
    {
     "data": {
      "image/png": "[encoded data removed]",
      "text/plain": [
       "<Figure size 432x288 with 1 Axes>"
      ]
     },
     "metadata": {
      "needs_background": "light"
     },
     "output_type": "display_data"
    },
    {
     "data": {
      "image/png": "[encoded data removed]",
      "text/plain": [
       "<Figure size 432x288 with 1 Axes>"
      ]
     },
     "metadata": {
      "needs_background": "light"
     },
     "output_type": "display_data"
    },
    {
     "data": {
      "image/png": "[encoded data removed]",
      "text/plain": [
       "<Figure size 432x288 with 1 Axes>"
      ]
     },
     "metadata": {
      "needs_background": "light"
     },
     "output_type": "display_data"
    }
   ],
   "source": [
    "a=0\n",
    "for i in range(len(pred_val)):\n",
    "    if pred_val[i]!=np.argmax(y_val[i]):\n",
    "        figi=plt.figure()\n",
    "        plt.imshow(X_val[i])\n",
    "        plt.title(f'pred:{pred_val[i]}, true: {np.argmax(y_val[i])}')\n",
    "        plt.xlabel(str(pred_val[i]))\n",
    "        plt.ylabel(str(np.argmax(y_val[i])))\n",
    "        if a==4:\n",
    "            break\n",
    "        a+=1\n",
    "    "
   ]
  },
  {
   "cell_type": "code",
   "execution_count": 36,
   "id": "090edcf4",
   "metadata": {
    "execution": {
     "iopub.execute_input": "2021-09-14T15:47:17.986827Z",
     "iopub.status.busy": "2021-09-14T15:47:17.985854Z",
     "iopub.status.idle": "2021-09-14T15:47:19.641444Z",
     "shell.execute_reply": "2021-09-14T15:47:19.640895Z"
    },
    "papermill": {
     "duration": 5.000182,
     "end_time": "2021-09-14T15:47:19.641598",
     "exception": false,
     "start_time": "2021-09-14T15:47:14.641416",
     "status": "completed"
    },
    "tags": []
   },
   "outputs": [],
   "source": [
    "output=model.predict_classes(test.values.reshape(-1,28,28,1))"
   ]
  },
  {
   "cell_type": "code",
   "execution_count": 37,
   "id": "6da76c85",
   "metadata": {
    "execution": {
     "iopub.execute_input": "2021-09-14T15:47:24.869370Z",
     "iopub.status.busy": "2021-09-14T15:47:24.868604Z",
     "iopub.status.idle": "2021-09-14T15:47:24.871642Z",
     "shell.execute_reply": "2021-09-14T15:47:24.871208Z"
    },
    "papermill": {
     "duration": 2.640283,
     "end_time": "2021-09-14T15:47:24.871764",
     "exception": false,
     "start_time": "2021-09-14T15:47:22.231481",
     "status": "completed"
    },
    "tags": []
   },
   "outputs": [],
   "source": [
    "output=pd.DataFrame({'ImageId':np.arange(1,28001),\n",
    "                  'Label':output})"
   ]
  },
  {
   "cell_type": "code",
   "execution_count": 38,
   "id": "1293b080",
   "metadata": {
    "execution": {
     "iopub.execute_input": "2021-09-14T15:47:30.389488Z",
     "iopub.status.busy": "2021-09-14T15:47:30.388822Z",
     "iopub.status.idle": "2021-09-14T15:47:30.437538Z",
     "shell.execute_reply": "2021-09-14T15:47:30.437072Z"
    },
    "papermill": {
     "duration": 2.958718,
     "end_time": "2021-09-14T15:47:30.437667",
     "exception": false,
     "start_time": "2021-09-14T15:47:27.478949",
     "status": "completed"
    },
    "tags": []
   },
   "outputs": [],
   "source": [
    "output.to_csv('mysubmission_aug.csv',index=False)"
   ]
  },
  {
   "cell_type": "code",
   "execution_count": null,
   "id": "0358fefe",
   "metadata": {
    "papermill": {
     "duration": 2.654818,
     "end_time": "2021-09-14T15:47:35.706785",
     "exception": false,
     "start_time": "2021-09-14T15:47:33.051967",
     "status": "completed"
    },
    "tags": []
   },
   "outputs": [],
   "source": []
  },
  {
   "cell_type": "code",
   "execution_count": null,
   "id": "01c769bd",
   "metadata": {
    "papermill": {
     "duration": 2.902741,
     "end_time": "2021-09-14T15:47:41.227291",
     "exception": false,
     "start_time": "2021-09-14T15:47:38.324550",
     "status": "completed"
    },
    "tags": []
   },
   "outputs": [],
   "source": []
  },
  {
   "cell_type": "code",
   "execution_count": null,
   "id": "59d91207",
   "metadata": {
    "papermill": {
     "duration": 2.650782,
     "end_time": "2021-09-14T15:47:46.475041",
     "exception": false,
     "start_time": "2021-09-14T15:47:43.824259",
     "status": "completed"
    },
    "tags": []
   },
   "outputs": [],
   "source": []
  },
  {
   "cell_type": "code",
   "execution_count": null,
   "id": "97d03c95",
   "metadata": {
    "papermill": {
     "duration": 2.881325,
     "end_time": "2021-09-14T15:47:52.446285",
     "exception": false,
     "start_time": "2021-09-14T15:47:49.564960",
     "status": "completed"
    },
    "tags": []
   },
   "outputs": [],
   "source": []
  },
  {
   "cell_type": "code",
   "execution_count": null,
   "id": "55f8d18b",
   "metadata": {
    "papermill": {
     "duration": 2.592635,
     "end_time": "2021-09-14T15:47:57.672867",
     "exception": false,
     "start_time": "2021-09-14T15:47:55.080232",
     "status": "completed"
    },
    "tags": []
   },
   "outputs": [],
   "source": []
  },
  {
   "cell_type": "code",
   "execution_count": null,
   "id": "3a8dace3",
   "metadata": {
    "papermill": {
     "duration": 2.883644,
     "end_time": "2021-09-14T15:48:03.202388",
     "exception": false,
     "start_time": "2021-09-14T15:48:00.318744",
     "status": "completed"
    },
    "tags": []
   },
   "outputs": [],
   "source": []
  },
  {
   "cell_type": "code",
   "execution_count": null,
   "id": "7a4f9795",
   "metadata": {
    "papermill": {
     "duration": 2.649459,
     "end_time": "2021-09-14T15:48:08.526734",
     "exception": false,
     "start_time": "2021-09-14T15:48:05.877275",
     "status": "completed"
    },
    "tags": []
   },
   "outputs": [],
   "source": []
  },
  {
   "cell_type": "code",
   "execution_count": null,
   "id": "e92a330e",
   "metadata": {
    "papermill": {
     "duration": 2.943578,
     "end_time": "2021-09-14T15:48:14.181066",
     "exception": false,
     "start_time": "2021-09-14T15:48:11.237488",
     "status": "completed"
    },
    "tags": []
   },
   "outputs": [],
   "source": []
  },
  {
   "cell_type": "code",
   "execution_count": null,
   "id": "5c9386f7",
   "metadata": {
    "papermill": {
     "duration": 2.658496,
     "end_time": "2021-09-14T15:48:19.434794",
     "exception": false,
     "start_time": "2021-09-14T15:48:16.776298",
     "status": "completed"
    },
    "tags": []
   },
   "outputs": [],
   "source": []
  },
  {
   "cell_type": "code",
   "execution_count": null,
   "id": "d20b3ff3",
   "metadata": {
    "papermill": {
     "duration": 2.871157,
     "end_time": "2021-09-14T15:48:25.419886",
     "exception": false,
     "start_time": "2021-09-14T15:48:22.548729",
     "status": "completed"
    },
    "tags": []
   },
   "outputs": [],
   "source": []
  }
 ],
 "metadata": {
  "kernelspec": {
   "display_name": "Python 3",
   "language": "python",
   "name": "python3"
  },
  "language_info": {
   "codemirror_mode": {
    "name": "ipython",
    "version": 3
   },
   "file_extension": ".py",
   "mimetype": "text/x-python",
   "name": "python",
   "nbconvert_exporter": "python",
   "pygments_lexer": "ipython3",
   "version": "3.7.11"
  },
  "papermill": {
   "default_parameters": {},
   "duration": 798.346045,
   "end_time": "2021-09-14T15:48:30.897832",
   "environment_variables": {},
   "exception": null,
   "input_path": "__notebook__.ipynb",
   "output_path": "__notebook__.ipynb",
   "parameters": {},
   "start_time": "2021-09-14T15:35:12.551787",
   "version": "2.3.3"
  }
 },
 "nbformat": 4,
 "nbformat_minor": 5
}
