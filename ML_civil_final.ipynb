{
 "cells": [
  {
   "cell_type": "markdown",
   "metadata": {},
   "source": [
    "# requirements\n",
    "tensorflow,\n",
    "skimage,\n",
    "numpy,\n",
    "image folders"
   ]
  },
  {
   "cell_type": "code",
   "execution_count": null,
   "metadata": {},
   "outputs": [],
   "source": []
  },
  {
   "cell_type": "code",
   "execution_count": 1,
   "metadata": {},
   "outputs": [],
   "source": [
    "from skimage.transform import resize\n",
    "from skimage import io\n",
    "\n",
    "import numpy as np\n",
    "import os\n",
    "\n",
    "import matplotlib.pyplot as plt\n",
    "%matplotlib inline"
   ]
  },
  {
   "cell_type": "code",
   "execution_count": 2,
   "metadata": {},
   "outputs": [],
   "source": [
    "def get_images(img_folder):\n",
    "    #os library is used to scan the folder and store the filenames of the images\n",
    "    filenames = [f.path for f in os.scandir(img_folder) if f.is_file() and f.path.endswith(('.png', '.jpg', '.jpeg'))]\n",
    "    print('length of given folder is ',len(filenames))\n",
    "    img = []\n",
    "    #this loop reads the images data and store into array\n",
    "    for i in range(len(filenames)):\n",
    "        img.append(plt.imread(filenames[i]))\n",
    "    res_img = []\n",
    "    # resizing of images done using resize function from skimage library\n",
    "    for i in range(len(img)) :\n",
    "        res_img.append(resize(img[i], (100,100)))\n",
    "    # converting list of images to array as neural network models take arrays as input not lists\n",
    "    import numpy as np\n",
    "    r_img = np.array(res_img)\n",
    "    return r_img"
   ]
  },
  {
   "cell_type": "code",
   "execution_count": 3,
   "metadata": {},
   "outputs": [
    {
     "name": "stdout",
     "output_type": "stream",
     "text": [
      "length of given folder is  295\n"
     ]
    }
   ],
   "source": [
    "A=get_images('positives')"
   ]
  },
  {
   "cell_type": "code",
   "execution_count": 4,
   "metadata": {},
   "outputs": [
    {
     "name": "stdout",
     "output_type": "stream",
     "text": [
      "length of given folder is  178\n"
     ]
    }
   ],
   "source": [
    "B=get_images('negatives')"
   ]
  },
  {
   "cell_type": "code",
   "execution_count": 5,
   "metadata": {},
   "outputs": [],
   "source": [
    "#we have read RGBA values of images, we need only RGB values so we have taken only first 3 values of each pixel\n",
    "A=A[:,:,:,:3]"
   ]
  },
  {
   "cell_type": "code",
   "execution_count": 6,
   "metadata": {},
   "outputs": [],
   "source": [
    "B=B[:,:,:,:3]"
   ]
  },
  {
   "cell_type": "code",
   "execution_count": 7,
   "metadata": {},
   "outputs": [],
   "source": [
    "a=[]\n",
    "b=[]\n",
    "for i in range(len(A)):\n",
    "    a.append(1)\n",
    "for i in range(len(B)):\n",
    "    b.append(0)"
   ]
  },
  {
   "cell_type": "code",
   "execution_count": 8,
   "metadata": {},
   "outputs": [],
   "source": [
    "X=np.array(list(A)+list(B))\n",
    "y=np.array(a+b)"
   ]
  },
  {
   "cell_type": "code",
   "execution_count": 9,
   "metadata": {},
   "outputs": [],
   "source": [
    "#splitting data into training, testing and validation\n",
    "from sklearn.model_selection import train_test_split\n",
    "X_train, X_test, y_train, y_test = train_test_split(X,y, test_size=0.15)\n",
    "X_train, X_val, y_train, y_val = train_test_split(X_train, y_train, test_size=0.15)\n",
    "from tensorflow.keras.optimizers import SGD\n",
    "from keras.regularizers import l2"
   ]
  },
  {
   "cell_type": "code",
   "execution_count": 10,
   "metadata": {},
   "outputs": [],
   "source": [
    "#creating neural network model\n",
    "from tensorflow.keras.models import Sequential\n",
    "from tensorflow.keras.layers import Dense,Dropout,Conv2D,BatchNormalization,Flatten,MaxPool2D\n",
    "model=Sequential()\n",
    "model.add(Conv2D(input_shape=(100,100,3),filters=64,kernel_size=(5,5),padding='Same',activation='relu'))\n",
    "model.add(Conv2D(filters=64,kernel_size=(5,5),padding='Same',activation='relu'))\n",
    "model.add(MaxPool2D((2,2)))\n",
    "model.add(Flatten())\n",
    "model.add(BatchNormalization())          \n",
    "model.add(Dense(78,activation='relu'))\n",
    "model.add(Dropout(0.5))\n",
    "model.add(Dense(50,activation='relu'))\n",
    "model.add(Dropout(0.5))\n",
    "model.add(BatchNormalization())          \n",
    "model.add(Dense(1,activation='sigmoid'))\n",
    "model.compile(loss='binary_crossentropy',optimizer='adam',metrics=['accuracy'])"
   ]
  },
  {
   "cell_type": "code",
   "execution_count": 11,
   "metadata": {},
   "outputs": [
    {
     "name": "stdout",
     "output_type": "stream",
     "text": [
      "Model: \"sequential\"\n",
      "_________________________________________________________________\n",
      "Layer (type)                 Output Shape              Param #   \n",
      "=================================================================\n",
      "conv2d (Conv2D)              (None, 100, 100, 64)      4864      \n",
      "_________________________________________________________________\n",
      "conv2d_1 (Conv2D)            (None, 100, 100, 64)      102464    \n",
      "_________________________________________________________________\n",
      "max_pooling2d (MaxPooling2D) (None, 50, 50, 64)        0         \n",
      "_________________________________________________________________\n",
      "flatten (Flatten)            (None, 160000)            0         \n",
      "_________________________________________________________________\n",
      "batch_normalization (BatchNo (None, 160000)            640000    \n",
      "_________________________________________________________________\n",
      "dense (Dense)                (None, 78)                12480078  \n",
      "_________________________________________________________________\n",
      "dropout (Dropout)            (None, 78)                0         \n",
      "_________________________________________________________________\n",
      "dense_1 (Dense)              (None, 50)                3950      \n",
      "_________________________________________________________________\n",
      "dropout_1 (Dropout)          (None, 50)                0         \n",
      "_________________________________________________________________\n",
      "batch_normalization_1 (Batch (None, 50)                200       \n",
      "_________________________________________________________________\n",
      "dense_2 (Dense)              (None, 1)                 51        \n",
      "=================================================================\n",
      "Total params: 13,231,607\n",
      "Trainable params: 12,911,507\n",
      "Non-trainable params: 320,100\n",
      "_________________________________________________________________\n"
     ]
    }
   ],
   "source": [
    "#displaying our model architecture\n",
    "model.summary()"
   ]
  },
  {
   "cell_type": "code",
   "execution_count": 12,
   "metadata": {},
   "outputs": [
    {
     "data": {
      "text/plain": [
       "295"
      ]
     },
     "execution_count": 12,
     "metadata": {},
     "output_type": "execute_result"
    }
   ],
   "source": [
    "len(a)"
   ]
  },
  {
   "cell_type": "code",
   "execution_count": 13,
   "metadata": {},
   "outputs": [
    {
     "data": {
      "text/plain": [
       "178"
      ]
     },
     "execution_count": 13,
     "metadata": {},
     "output_type": "execute_result"
    }
   ],
   "source": [
    "len(b)"
   ]
  },
  {
   "cell_type": "code",
   "execution_count": 14,
   "metadata": {},
   "outputs": [
    {
     "name": "stdout",
     "output_type": "stream",
     "text": [
      "Epoch 1/15\n",
      "7/7 [==============================] - 25s 3s/step - loss: 0.9776 - accuracy: 0.5279 - val_loss: 2.7803 - val_accuracy: 0.3934\n",
      "Epoch 2/15\n",
      "7/7 [==============================] - 23s 3s/step - loss: 0.8318 - accuracy: 0.5777 - val_loss: 1.0851 - val_accuracy: 0.3934\n",
      "Epoch 3/15\n",
      "7/7 [==============================] - 23s 3s/step - loss: 0.8471 - accuracy: 0.5601 - val_loss: 0.7141 - val_accuracy: 0.5574\n",
      "Epoch 4/15\n",
      "7/7 [==============================] - 23s 3s/step - loss: 0.8046 - accuracy: 0.5953 - val_loss: 0.6810 - val_accuracy: 0.5738\n",
      "Epoch 5/15\n",
      "7/7 [==============================] - 23s 3s/step - loss: 0.6922 - accuracy: 0.6246 - val_loss: 0.6946 - val_accuracy: 0.5902\n",
      "Epoch 6/15\n",
      "7/7 [==============================] - 23s 3s/step - loss: 0.7210 - accuracy: 0.6246 - val_loss: 0.7110 - val_accuracy: 0.5902\n",
      "Epoch 7/15\n",
      "7/7 [==============================] - 23s 3s/step - loss: 0.7084 - accuracy: 0.6334 - val_loss: 0.7778 - val_accuracy: 0.5902\n",
      "Epoch 8/15\n",
      "7/7 [==============================] - 23s 3s/step - loss: 0.6640 - accuracy: 0.6276 - val_loss: 0.7489 - val_accuracy: 0.5902\n",
      "Epoch 9/15\n",
      "7/7 [==============================] - 23s 3s/step - loss: 0.6829 - accuracy: 0.6422 - val_loss: 0.7035 - val_accuracy: 0.5902\n",
      "Epoch 10/15\n",
      "7/7 [==============================] - 23s 3s/step - loss: 0.7029 - accuracy: 0.6364 - val_loss: 0.7534 - val_accuracy: 0.6066\n",
      "Epoch 11/15\n",
      "7/7 [==============================] - 23s 3s/step - loss: 0.6833 - accuracy: 0.6686 - val_loss: 0.7670 - val_accuracy: 0.6066\n",
      "Epoch 12/15\n",
      "7/7 [==============================] - 23s 3s/step - loss: 0.6349 - accuracy: 0.6569 - val_loss: 0.7123 - val_accuracy: 0.6066\n",
      "Epoch 13/15\n",
      "7/7 [==============================] - 23s 3s/step - loss: 0.6445 - accuracy: 0.6481 - val_loss: 0.7038 - val_accuracy: 0.5738\n",
      "Epoch 14/15\n",
      "7/7 [==============================] - 23s 3s/step - loss: 0.6857 - accuracy: 0.6217 - val_loss: 1.0681 - val_accuracy: 0.3934\n",
      "Epoch 15/15\n",
      "7/7 [==============================] - 23s 3s/step - loss: 0.6640 - accuracy: 0.6745 - val_loss: 1.2423 - val_accuracy: 0.3770\n"
     ]
    }
   ],
   "source": [
    "#fitting data into our model by training our model using training data, also validating our model using validation data wether the accuracy is increasing or not\n",
    "history=model.fit(X_train,y_train,epochs=15,validation_data=(X_val,y_val),batch_size=50)"
   ]
  },
  {
   "cell_type": "code",
   "execution_count": 15,
   "metadata": {},
   "outputs": [
    {
     "data": {
      "text/plain": [
       "array([[0.10300219],\n",
       "       [0.34048328],\n",
       "       [0.17846793],\n",
       "       [0.35952637],\n",
       "       [0.27735513],\n",
       "       [0.09955013],\n",
       "       [0.540092  ],\n",
       "       [0.12838379],\n",
       "       [0.22121787],\n",
       "       [0.17538795],\n",
       "       [0.21755794],\n",
       "       [0.406731  ],\n",
       "       [0.01850957],\n",
       "       [0.44433802],\n",
       "       [0.6828022 ],\n",
       "       [0.5101247 ],\n",
       "       [0.12787572],\n",
       "       [0.22650519],\n",
       "       [0.24230522],\n",
       "       [0.08810696],\n",
       "       [0.13433269],\n",
       "       [0.20841768],\n",
       "       [0.29687178],\n",
       "       [0.04251319],\n",
       "       [0.0191164 ],\n",
       "       [0.17071211],\n",
       "       [0.19018418],\n",
       "       [0.13607794],\n",
       "       [0.05052412],\n",
       "       [0.06657273],\n",
       "       [0.05297989],\n",
       "       [0.42007375],\n",
       "       [0.7426905 ],\n",
       "       [0.43237242],\n",
       "       [0.16756234],\n",
       "       [0.23257723],\n",
       "       [0.08556563],\n",
       "       [0.11442801],\n",
       "       [0.10505092],\n",
       "       [0.43702096],\n",
       "       [0.2372351 ],\n",
       "       [0.19231206],\n",
       "       [0.16129982],\n",
       "       [0.48450288],\n",
       "       [0.20308891],\n",
       "       [0.04359692],\n",
       "       [0.19604415],\n",
       "       [0.22604647],\n",
       "       [0.11116397],\n",
       "       [0.11269525],\n",
       "       [0.35358095],\n",
       "       [0.08133233],\n",
       "       [0.14330074],\n",
       "       [0.29803705],\n",
       "       [0.07862636],\n",
       "       [0.7865766 ],\n",
       "       [0.64517105],\n",
       "       [0.04795089],\n",
       "       [0.24340904],\n",
       "       [0.08555308],\n",
       "       [0.40089577],\n",
       "       [0.05113578],\n",
       "       [0.10226539],\n",
       "       [0.08540735],\n",
       "       [0.34883702],\n",
       "       [0.86485815],\n",
       "       [0.3805538 ],\n",
       "       [0.2788989 ],\n",
       "       [0.05894911],\n",
       "       [0.2948057 ],\n",
       "       [0.13092437]], dtype=float32)"
      ]
     },
     "execution_count": 15,
     "metadata": {},
     "output_type": "execute_result"
    }
   ],
   "source": [
    "#gives the probability of our image having a wire\n",
    "pred=model.predict(X_test)\n",
    "pred"
   ]
  },
  {
   "cell_type": "code",
   "execution_count": 16,
   "metadata": {},
   "outputs": [],
   "source": [
    "L=[]\n",
    "for i in pred:\n",
    "    if i>0.65:\n",
    "        L.append(1)\n",
    "    else:\n",
    "        L.append(0)"
   ]
  },
  {
   "cell_type": "code",
   "execution_count": 17,
   "metadata": {},
   "outputs": [
    {
     "data": {
      "text/plain": [
       "array([0, 0, 0, 0, 0, 0, 0, 0, 0, 0, 0, 0, 0, 0, 1, 0, 0, 0, 0, 0, 0, 0,\n",
       "       0, 0, 0, 0, 0, 0, 0, 0, 0, 0, 1, 0, 0, 0, 0, 0, 0, 0, 0, 0, 0, 0,\n",
       "       0, 0, 0, 0, 0, 0, 0, 0, 0, 0, 0, 1, 0, 0, 0, 0, 0, 0, 0, 0, 0, 1,\n",
       "       0, 0, 0, 0, 0])"
      ]
     },
     "execution_count": 17,
     "metadata": {},
     "output_type": "execute_result"
    }
   ],
   "source": [
    "p=np.array(L)\n",
    "p"
   ]
  },
  {
   "cell_type": "code",
   "execution_count": 18,
   "metadata": {},
   "outputs": [
    {
     "name": "stdout",
     "output_type": "stream",
     "text": [
      "              precision    recall  f1-score   support\n",
      "\n",
      "           0       0.46      1.00      0.63        31\n",
      "           1       1.00      0.10      0.18        40\n",
      "\n",
      "    accuracy                           0.49        71\n",
      "   macro avg       0.73      0.55      0.41        71\n",
      "weighted avg       0.77      0.49      0.38        71\n",
      "\n"
     ]
    }
   ],
   "source": [
    "#preparing classification report\n",
    "from sklearn.metrics import classification_report\n",
    "print(classification_report(y_test,p))"
   ]
  },
  {
   "cell_type": "code",
   "execution_count": 19,
   "metadata": {},
   "outputs": [],
   "source": [
    "from tensorflow.keras.preprocessing.image import ImageDataGenerator\n"
   ]
  },
  {
   "cell_type": "code",
   "execution_count": 20,
   "metadata": {},
   "outputs": [],
   "source": [
    "# datA augmentation creates new images by rotating, width shifting etc which lets our model not to overfit\n",
    "aug=ImageDataGenerator(\n",
    "    featurewise_center=False,\n",
    "    samplewise_center=False,\n",
    "    featurewise_std_normalization=False,\n",
    "    samplewise_std_normalization=False,\n",
    "    zca_whitening=False,\n",
    "    zca_epsilon=1e-06,\n",
    "    rotation_range=90,\n",
    "    width_shift_range=0.2,\n",
    "    height_shift_range=0.2,\n",
    "    brightness_range=(0.5,1),\n",
    "    shear_range=0.3,\n",
    "    zoom_range=0.2,\n",
    "    channel_shift_range=0.0,\n",
    "    fill_mode='nearest',\n",
    "    cval=0.0,\n",
    "    horizontal_flip=True,\n",
    "    vertical_flip=True,\n",
    "    rescale=None,\n",
    "    preprocessing_function=None,\n",
    "    data_format=None,\n",
    "    validation_split=0.0,\n",
    "    dtype=None,)"
   ]
  },
  {
   "cell_type": "code",
   "execution_count": 21,
   "metadata": {},
   "outputs": [],
   "source": [
    "from tensorflow.keras.layers import Input, Lambda, Dense, Flatten,Dropout\n",
    "from tensorflow.keras.models import Model\n",
    "from tensorflow.keras.applications.vgg19 import VGG19\n",
    "from tensorflow.keras.applications.vgg19 import preprocess_input\n",
    "from tensorflow.keras.preprocessing import image\n",
    "from tensorflow.keras.preprocessing.image import ImageDataGenerator\n",
    "from tensorflow.keras.models import Sequential\n",
    "import numpy as np\n",
    "import pandas as pd\n",
    "import os\n",
    "import cv2"
   ]
  },
  {
   "cell_type": "code",
   "execution_count": 22,
   "metadata": {},
   "outputs": [],
   "source": [
    "#using vgg architecture \n",
    "vgg = VGG19(input_shape=(100,100,3), weights='imagenet', include_top=False)\n",
    "#do not train the pre-trained layers of VGG-19\n",
    "for layer in vgg.layers:\n",
    "    layer.trainable = False"
   ]
  },
  {
   "cell_type": "code",
   "execution_count": 56,
   "metadata": {},
   "outputs": [],
   "source": [
    "x = Flatten()(vgg.output)\n",
    "prediction = Dense(1, activation='sigmoid')(x)\n",
    "#creating model\n",
    "model = Model(inputs=vgg.input, outputs=prediction)"
   ]
  },
  {
   "cell_type": "code",
   "execution_count": 57,
   "metadata": {},
   "outputs": [
    {
     "name": "stdout",
     "output_type": "stream",
     "text": [
      "Model: \"model_1\"\n",
      "_________________________________________________________________\n",
      "Layer (type)                 Output Shape              Param #   \n",
      "=================================================================\n",
      "input_1 (InputLayer)         [(None, 100, 100, 3)]     0         \n",
      "_________________________________________________________________\n",
      "block1_conv1 (Conv2D)        (None, 100, 100, 64)      1792      \n",
      "_________________________________________________________________\n",
      "block1_conv2 (Conv2D)        (None, 100, 100, 64)      36928     \n",
      "_________________________________________________________________\n",
      "block1_pool (MaxPooling2D)   (None, 50, 50, 64)        0         \n",
      "_________________________________________________________________\n",
      "block2_conv1 (Conv2D)        (None, 50, 50, 128)       73856     \n",
      "_________________________________________________________________\n",
      "block2_conv2 (Conv2D)        (None, 50, 50, 128)       147584    \n",
      "_________________________________________________________________\n",
      "block2_pool (MaxPooling2D)   (None, 25, 25, 128)       0         \n",
      "_________________________________________________________________\n",
      "block3_conv1 (Conv2D)        (None, 25, 25, 256)       295168    \n",
      "_________________________________________________________________\n",
      "block3_conv2 (Conv2D)        (None, 25, 25, 256)       590080    \n",
      "_________________________________________________________________\n",
      "block3_conv3 (Conv2D)        (None, 25, 25, 256)       590080    \n",
      "_________________________________________________________________\n",
      "block3_conv4 (Conv2D)        (None, 25, 25, 256)       590080    \n",
      "_________________________________________________________________\n",
      "block3_pool (MaxPooling2D)   (None, 12, 12, 256)       0         \n",
      "_________________________________________________________________\n",
      "block4_conv1 (Conv2D)        (None, 12, 12, 512)       1180160   \n",
      "_________________________________________________________________\n",
      "block4_conv2 (Conv2D)        (None, 12, 12, 512)       2359808   \n",
      "_________________________________________________________________\n",
      "block4_conv3 (Conv2D)        (None, 12, 12, 512)       2359808   \n",
      "_________________________________________________________________\n",
      "block4_conv4 (Conv2D)        (None, 12, 12, 512)       2359808   \n",
      "_________________________________________________________________\n",
      "block4_pool (MaxPooling2D)   (None, 6, 6, 512)         0         \n",
      "_________________________________________________________________\n",
      "block5_conv1 (Conv2D)        (None, 6, 6, 512)         2359808   \n",
      "_________________________________________________________________\n",
      "block5_conv2 (Conv2D)        (None, 6, 6, 512)         2359808   \n",
      "_________________________________________________________________\n",
      "block5_conv3 (Conv2D)        (None, 6, 6, 512)         2359808   \n",
      "_________________________________________________________________\n",
      "block5_conv4 (Conv2D)        (None, 6, 6, 512)         2359808   \n",
      "_________________________________________________________________\n",
      "block5_pool (MaxPooling2D)   (None, 3, 3, 512)         0         \n",
      "_________________________________________________________________\n",
      "flatten_2 (Flatten)          (None, 4608)              0         \n",
      "_________________________________________________________________\n",
      "dense_4 (Dense)              (None, 1)                 4609      \n",
      "=================================================================\n",
      "Total params: 20,028,993\n",
      "Trainable params: 4,609\n",
      "Non-trainable params: 20,024,384\n",
      "_________________________________________________________________\n"
     ]
    }
   ],
   "source": [
    "#displaying the model architecture\n",
    "model.summary()"
   ]
  },
  {
   "cell_type": "code",
   "execution_count": 58,
   "metadata": {},
   "outputs": [],
   "source": [
    "model.compile(\n",
    "  loss='binary_crossentropy',\n",
    "  optimizer=\"adam\",\n",
    "  metrics=['accuracy']\n",
    ")"
   ]
  },
  {
   "cell_type": "code",
   "execution_count": 59,
   "metadata": {},
   "outputs": [
    {
     "name": "stdout",
     "output_type": "stream",
     "text": [
      "Epoch 1/15\n",
      "7/7 [==============================] - 19s 3s/step - loss: 0.5603 - accuracy: 0.6921 - val_loss: 0.4163 - val_accuracy: 0.9180\n",
      "Epoch 2/15\n",
      "7/7 [==============================] - 15s 2s/step - loss: 0.3603 - accuracy: 0.9032 - val_loss: 0.2902 - val_accuracy: 0.9672\n",
      "Epoch 3/15\n",
      "7/7 [==============================] - 17s 3s/step - loss: 0.2750 - accuracy: 0.9150 - val_loss: 0.2311 - val_accuracy: 0.9672\n",
      "Epoch 4/15\n",
      "7/7 [==============================] - 17s 3s/step - loss: 0.2276 - accuracy: 0.9296 - val_loss: 0.2103 - val_accuracy: 0.9672\n",
      "Epoch 5/15\n",
      "7/7 [==============================] - 17s 2s/step - loss: 0.1952 - accuracy: 0.9531 - val_loss: 0.1763 - val_accuracy: 0.9672\n",
      "Epoch 6/15\n",
      "7/7 [==============================] - 17s 3s/step - loss: 0.1712 - accuracy: 0.9560 - val_loss: 0.1765 - val_accuracy: 0.9672\n",
      "Epoch 7/15\n",
      "7/7 [==============================] - 17s 2s/step - loss: 0.1577 - accuracy: 0.9560 - val_loss: 0.1620 - val_accuracy: 0.9672\n",
      "Epoch 8/15\n",
      "7/7 [==============================] - 17s 3s/step - loss: 0.1411 - accuracy: 0.9736 - val_loss: 0.1450 - val_accuracy: 0.9836\n",
      "Epoch 9/15\n",
      "7/7 [==============================] - 17s 3s/step - loss: 0.1349 - accuracy: 0.9736 - val_loss: 0.1333 - val_accuracy: 0.9836\n",
      "Epoch 10/15\n",
      "7/7 [==============================] - 17s 2s/step - loss: 0.1266 - accuracy: 0.9736 - val_loss: 0.1490 - val_accuracy: 0.9508\n",
      "Epoch 11/15\n",
      "7/7 [==============================] - 17s 3s/step - loss: 0.1188 - accuracy: 0.9824 - val_loss: 0.1180 - val_accuracy: 0.9836\n",
      "Epoch 12/15\n",
      "7/7 [==============================] - 17s 3s/step - loss: 0.1097 - accuracy: 0.9824 - val_loss: 0.1352 - val_accuracy: 0.9508\n",
      "Epoch 13/15\n",
      "7/7 [==============================] - 18s 3s/step - loss: 0.1052 - accuracy: 0.9853 - val_loss: 0.1204 - val_accuracy: 0.9672\n",
      "Epoch 14/15\n",
      "7/7 [==============================] - 18s 3s/step - loss: 0.0972 - accuracy: 0.9853 - val_loss: 0.1251 - val_accuracy: 0.9508\n",
      "Epoch 15/15\n",
      "7/7 [==============================] - 17s 3s/step - loss: 0.0933 - accuracy: 0.9853 - val_loss: 0.1173 - val_accuracy: 0.9672\n"
     ]
    }
   ],
   "source": [
    "#training using vgg model\n",
    "history=model.fit(X_train,y_train,epochs=15,validation_data=(X_val,y_val),batch_size=50)"
   ]
  },
  {
   "cell_type": "code",
   "execution_count": 60,
   "metadata": {},
   "outputs": [
    {
     "data": {
      "text/plain": [
       "<matplotlib.axes._subplots.AxesSubplot at 0x174c7ea5cf8>"
      ]
     },
     "execution_count": 60,
     "metadata": {},
     "output_type": "execute_result"
    },
    {
     "data": {
      "image/png": "[encoded data removed]",
      "text/plain": [
       "<Figure size 432x288 with 1 Axes>"
      ]
     },
     "metadata": {
      "needs_background": "light"
     },
     "output_type": "display_data"
    }
   ],
   "source": [
    "# plot of losses and accuracies, losses should decrease and accuracy should increase\n",
    "import pandas as pd\n",
    "hs=pd.DataFrame(model.history.history)\n",
    "hs.plot()"
   ]
  },
  {
   "cell_type": "code",
   "execution_count": 61,
   "metadata": {},
   "outputs": [
    {
     "data": {
      "text/plain": [
       "array([[0.7002516 ],\n",
       "       [0.0219641 ],\n",
       "       [0.03055143],\n",
       "       [0.9983389 ],\n",
       "       [0.06540868],\n",
       "       [0.79974526],\n",
       "       [0.99608374],\n",
       "       [0.02348691],\n",
       "       [0.9830427 ],\n",
       "       [0.19450325],\n",
       "       [0.05847123],\n",
       "       [0.9994957 ],\n",
       "       [0.9948585 ],\n",
       "       [0.99905574],\n",
       "       [0.9939048 ],\n",
       "       [0.5823847 ],\n",
       "       [0.968524  ],\n",
       "       [0.8817681 ],\n",
       "       [0.98658025],\n",
       "       [0.9969119 ],\n",
       "       [0.9963854 ],\n",
       "       [0.0619373 ],\n",
       "       [0.99990726],\n",
       "       [0.8768905 ],\n",
       "       [0.9979011 ],\n",
       "       [0.07886553],\n",
       "       [0.03290522],\n",
       "       [0.35724923],\n",
       "       [0.17527303],\n",
       "       [0.9989383 ],\n",
       "       [0.02381036],\n",
       "       [0.96590334],\n",
       "       [0.99364734],\n",
       "       [0.03171179],\n",
       "       [0.9972265 ],\n",
       "       [0.9999826 ],\n",
       "       [0.37235808],\n",
       "       [0.04175216],\n",
       "       [0.99747145],\n",
       "       [0.15927237],\n",
       "       [0.96392   ],\n",
       "       [0.99428356],\n",
       "       [0.95073676],\n",
       "       [0.1497767 ],\n",
       "       [0.0520536 ],\n",
       "       [0.6668899 ],\n",
       "       [0.97173554],\n",
       "       [0.99690205],\n",
       "       [0.02854377],\n",
       "       [0.10464483],\n",
       "       [0.9906583 ],\n",
       "       [0.13560674],\n",
       "       [0.20131117],\n",
       "       [0.9942733 ],\n",
       "       [0.01189041],\n",
       "       [0.89003515],\n",
       "       [0.96478915],\n",
       "       [0.9996771 ],\n",
       "       [0.9989295 ],\n",
       "       [0.01675218],\n",
       "       [0.0371711 ],\n",
       "       [0.0843519 ],\n",
       "       [0.997007  ],\n",
       "       [0.04014218],\n",
       "       [0.9795859 ],\n",
       "       [0.96433103],\n",
       "       [0.9384788 ],\n",
       "       [0.04068005],\n",
       "       [0.9681245 ],\n",
       "       [0.07715073],\n",
       "       [0.32051516]], dtype=float32)"
      ]
     },
     "execution_count": 61,
     "metadata": {},
     "output_type": "execute_result"
    }
   ],
   "source": [
    "pred=model.predict(X_test)\n",
    "pred"
   ]
  },
  {
   "cell_type": "code",
   "execution_count": 71,
   "metadata": {},
   "outputs": [],
   "source": [
    "L=[]\n",
    "for i in pred:\n",
    "    if i>0.8:  #we can set any threshold from 0.3 to 0.9\n",
    "        L.append(1)\n",
    "    else:\n",
    "        L.append(0)"
   ]
  },
  {
   "cell_type": "code",
   "execution_count": 72,
   "metadata": {},
   "outputs": [
    {
     "data": {
      "text/plain": [
       "array([0, 0, 0, 1, 0, 0, 1, 0, 1, 0, 0, 1, 1, 1, 1, 0, 1, 1, 1, 1, 1, 0,\n",
       "       1, 1, 1, 0, 0, 0, 0, 1, 0, 1, 1, 0, 1, 1, 0, 0, 1, 0, 1, 1, 1, 0,\n",
       "       0, 0, 1, 1, 0, 0, 1, 0, 0, 1, 0, 1, 1, 1, 1, 0, 0, 0, 1, 0, 1, 1,\n",
       "       1, 0, 1, 0, 0])"
      ]
     },
     "execution_count": 72,
     "metadata": {},
     "output_type": "execute_result"
    }
   ],
   "source": [
    "p=np.array(L)\n",
    "p"
   ]
  },
  {
   "cell_type": "code",
   "execution_count": 73,
   "metadata": {},
   "outputs": [
    {
     "name": "stdout",
     "output_type": "stream",
     "text": [
      "              precision    recall  f1-score   support\n",
      "\n",
      "           0       0.88      0.97      0.92        31\n",
      "           1       0.97      0.90      0.94        40\n",
      "\n",
      "    accuracy                           0.93        71\n",
      "   macro avg       0.93      0.93      0.93        71\n",
      "weighted avg       0.93      0.93      0.93        71\n",
      "\n"
     ]
    }
   ],
   "source": [
    "from sklearn.metrics import classification_report\n",
    "print(classification_report(y_test,p))"
   ]
  },
  {
   "cell_type": "code",
   "execution_count": 65,
   "metadata": {},
   "outputs": [],
   "source": [
    "#need to have image in current directory\n",
    "sample=plt.imread('varun photo.jpeg')"
   ]
  },
  {
   "cell_type": "code",
   "execution_count": 66,
   "metadata": {},
   "outputs": [],
   "source": [
    "s=resize(sample,(100,100))"
   ]
  },
  {
   "cell_type": "code",
   "execution_count": 67,
   "metadata": {},
   "outputs": [
    {
     "data": {
      "text/plain": [
       "(100, 100, 3)"
      ]
     },
     "execution_count": 67,
     "metadata": {},
     "output_type": "execute_result"
    }
   ],
   "source": [
    "s.shape"
   ]
  },
  {
   "cell_type": "code",
   "execution_count": 68,
   "metadata": {},
   "outputs": [
    {
     "data": {
      "text/plain": [
       "<matplotlib.image.AxesImage at 0x174c62eecf8>"
      ]
     },
     "execution_count": 68,
     "metadata": {},
     "output_type": "execute_result"
    },
    {
     "data": {
      "image/png": "[encoded data removed]",
      "text/plain": [
       "<Figure size 432x288 with 1 Axes>"
      ]
     },
     "metadata": {
      "needs_background": "light"
     },
     "output_type": "display_data"
    }
   ],
   "source": [
    "plt.imshow(s)"
   ]
  },
  {
   "cell_type": "code",
   "execution_count": 69,
   "metadata": {},
   "outputs": [],
   "source": [
    "s=s.reshape(1,100,100,3)"
   ]
  },
  {
   "cell_type": "code",
   "execution_count": 70,
   "metadata": {},
   "outputs": [
    {
     "data": {
      "text/plain": [
       "array([[0.97964185]], dtype=float32)"
      ]
     },
     "execution_count": 70,
     "metadata": {},
     "output_type": "execute_result"
    }
   ],
   "source": [
    "model.predict(s)"
   ]
  },
  {
   "cell_type": "code",
   "execution_count": null,
   "metadata": {},
   "outputs": [],
   "source": []
  },
  {
   "cell_type": "code",
   "execution_count": null,
   "metadata": {},
   "outputs": [],
   "source": []
  }
 ],
 "metadata": {
  "kernelspec": {
   "display_name": "Python 3",
   "language": "python",
   "name": "python3"
  },
  "language_info": {
   "codemirror_mode": {
    "name": "ipython",
    "version": 3
   },
   "file_extension": ".py",
   "mimetype": "text/x-python",
   "name": "python",
   "nbconvert_exporter": "python",
   "pygments_lexer": "ipython3",
   "version": "3.6.10"
  }
 },
 "nbformat": 4,
 "nbformat_minor": 4
}
